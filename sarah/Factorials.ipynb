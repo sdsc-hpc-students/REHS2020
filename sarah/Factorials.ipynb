{
 "cells": [
  {
   "cell_type": "markdown",
   "metadata": {
    "colab_type": "text",
    "id": "B9BY53SCeKxm"
   },
   "source": [
    "# Recursion\n",
    "A recursive function is a function that calls itself during its execution. Recursive functions can best be demonstrated using factorials. To solve a factorial, for every number except for 1, n! = n * (n - 1)!. This can also be written as fact(n) = n * fact(n - 1). Using this information, we can create a recursive function that solves factorials. "
   ]
  },
  {
   "cell_type": "markdown",
   "metadata": {
    "colab_type": "text",
    "id": "VSgaTz_lf2WP"
   },
   "source": [
    "## How to write a recursive function\n",
    "All recursive functions need two parts: a base case and a recursive case. The base case is the point in which the recursive function can stop calling itself. The recursive case is the part in which the function calls itself, but in a different way, with the purpose of breaking a large problem into multiple parts. "
   ]
  },
  {
   "cell_type": "markdown",
   "metadata": {},
   "source": [
    "We know that fact(1) will always equal 1. Therefore, we can use fact(1) as a base case. We also know that in factorials, fact(n) = n * fact(n - 1). Therefore, our recursive case will call the fact(n - 1) function."
   ]
  },
  {
   "cell_type": "code",
   "execution_count": 1,
   "metadata": {
    "colab": {
     "base_uri": "https://localhost:8080/",
     "height": 370
    },
    "colab_type": "code",
    "executionInfo": {
     "elapsed": 2344,
     "status": "error",
     "timestamp": 1595963746454,
     "user": {
      "displayName": "Sarah Xie",
      "photoUrl": "https://lh3.googleusercontent.com/a-/AOh14GjcJcZ8eZlCL8wnhX8SLJsIlRTUqagd5hjgk77S=s64",
      "userId": "02460508696471643729"
     },
     "user_tz": 420
    },
    "id": "uzqXpKm3c-iK",
    "outputId": "ad73c5b6-5512-4611-f958-00b898662e37"
   },
   "outputs": [
    {
     "name": "stdout",
     "output_type": "stream",
     "text": [
      "Input a number smaller than 10: 9\n",
      "362880\n"
     ]
    }
   ],
   "source": [
    "# Define the factorial function\n",
    "def fact(n):\n",
    "  # The base case! fact(1) will always be 1\n",
    "  if n == 1:\n",
    "    return 1\n",
    "  else:\n",
    "    # return fact(n - 1)\n",
    "    return n * fact(n - 1)\n",
    "\n",
    "# Define a number to take the factorial of (in this case, its 4)\n",
    "num = input(\"Input a number smaller than 10: \")\n",
    "while int(num) > 10:\n",
    "    num = input(\"Input a number smaller than 10: \")\n",
    "\n",
    "# Print out the factorial of n\n",
    "print(fact(int(num)))"
   ]
  },
  {
   "cell_type": "markdown",
   "metadata": {
    "colab_type": "text",
    "id": "FDelYXcTeJp4"
   },
   "source": [
    "## Using Recursion to solve a maze\n",
    "We can also use recursion to solve more complex problems, such as using recursion to solve a maze:"
   ]
  },
  {
   "cell_type": "code",
   "execution_count": 2,
   "metadata": {},
   "outputs": [
    {
     "name": "stdout",
     "output_type": "stream",
     "text": [
      "1 0 0 0 \n",
      "1 1 0 0 \n",
      "0 1 0 0 \n",
      "0 1 1 1 \n"
     ]
    }
   ],
   "source": [
    "# Code from https://www.geeksforgeeks.org/\n",
    "# Python3 program to solve Rat in a Maze  \n",
    "# problem using backracking  \n",
    "  \n",
    "# Maze size \n",
    "N = 4\n",
    "  \n",
    "# A utility function to print solution matrix sol \n",
    "def printSolution( sol ): \n",
    "      \n",
    "    for i in sol: \n",
    "        for j in i: \n",
    "            print(str(j) + \" \", end =\"\") \n",
    "        print(\"\") \n",
    "  \n",
    "# A utility function to check if x, y is valid \n",
    "# index for N * N Maze \n",
    "def isSafe( maze, x, y ): \n",
    "      \n",
    "    if x >= 0 and x < N and y >= 0 and y < N and maze[x][y] == 1: \n",
    "        return True\n",
    "      \n",
    "    return False\n",
    "  \n",
    "\"\"\" This function solves the Maze problem using Backtracking.  \n",
    "    It mainly uses solveMazeUtil() to solve the problem. It  \n",
    "    returns false if no path is possible, otherwise return  \n",
    "    true and prints the path in the form of 1s. Please note \n",
    "    that there may be more than one solutions, this function \n",
    "    prints one of the feasable solutions. \"\"\"\n",
    "def solveMaze( maze ): \n",
    "      \n",
    "    # Creating a 4 * 4 2-D list \n",
    "    sol = [ [ 0 for j in range(4) ] for i in range(4) ] \n",
    "      \n",
    "    if solveMazeUtil(maze, 0, 0, sol) == False: \n",
    "        print(\"Solution doesn't exist\"); \n",
    "        return False\n",
    "      \n",
    "    printSolution(sol) \n",
    "    return True\n",
    "      \n",
    "# A recursive utility function to solve Maze problem \n",
    "def solveMazeUtil(maze, x, y, sol): \n",
    "      \n",
    "    # if (x, y is goal) return True \n",
    "    if x == N - 1 and y == N - 1 and maze[x][y]== 1: \n",
    "        sol[x][y] = 1\n",
    "        return True\n",
    "          \n",
    "    # Check if maze[x][y] is valid \n",
    "    if isSafe(maze, x, y) == True: \n",
    "        # mark x, y as part of solution path \n",
    "        sol[x][y] = 1\n",
    "          \n",
    "        # Move forward in x direction \n",
    "        if solveMazeUtil(maze, x + 1, y, sol) == True: \n",
    "            return True\n",
    "              \n",
    "        # If moving in x direction doesn't give solution  \n",
    "        # then Move down in y direction \n",
    "        if solveMazeUtil(maze, x, y + 1, sol) == True: \n",
    "            return True\n",
    "          \n",
    "        # If none of the above movements work then  \n",
    "        # BACKTRACK: unmark x, y as part of solution path \n",
    "        sol[x][y] = 0\n",
    "        return False\n",
    "  \n",
    "# Driver program to test above function \n",
    "if __name__ == \"__main__\": \n",
    "    # Initialising the maze \n",
    "    maze = [ [1, 0, 0, 0], \n",
    "             [1, 1, 0, 1], \n",
    "             [0, 1, 0, 0], \n",
    "             [1, 1, 1, 1] ] \n",
    "               \n",
    "    solveMaze(maze) \n",
    "  \n",
    "# This code is contributed by Shiv Shankar "
   ]
  },
  {
   "cell_type": "code",
   "execution_count": null,
   "metadata": {},
   "outputs": [],
   "source": []
  }
 ],
 "metadata": {
  "colab": {
   "authorship_tag": "ABX9TyMmdOMedMg4h4Kll9wrNC8J",
   "name": "Factorials.ipynb",
   "provenance": []
  },
  "kernelspec": {
   "display_name": "Python 3",
   "language": "python",
   "name": "python3"
  },
  "language_info": {
   "codemirror_mode": {
    "name": "ipython",
    "version": 3
   },
   "file_extension": ".py",
   "mimetype": "text/x-python",
   "name": "python",
   "nbconvert_exporter": "python",
   "pygments_lexer": "ipython3",
   "version": "3.7.6"
  }
 },
 "nbformat": 4,
 "nbformat_minor": 1
}
